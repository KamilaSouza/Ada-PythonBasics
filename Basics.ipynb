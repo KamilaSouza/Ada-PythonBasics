{
 "cells": [
  {
   "cell_type": "code",
   "execution_count": 18,
   "metadata": {},
   "outputs": [
    {
     "name": "stdout",
     "output_type": "stream",
     "text": [
      "1 cleaned item\n",
      "2 cleaned items\n",
      "3 cleaned items\n",
      "4 cleaned items\n",
      "5 cleaned items\n",
      "6 cleaned items\n",
      "7 cleaned items\n",
      "8 cleaned items\n",
      "9 cleaned items\n",
      "10 cleaned items\n",
      "End of loop while\n"
     ]
    }
   ],
   "source": [
    "counter = 0\n",
    "\n",
    "while counter < 10:\n",
    "    counter = counter + 1\n",
    "    if counter == 1:\n",
    "        print(counter, \"cleaned item\")\n",
    "    else:\n",
    "        print(counter, \"cleaned items\")\n",
    "\n",
    "print(\"End of loop while\")"
   ]
  },
  {
   "cell_type": "code",
   "execution_count": 20,
   "metadata": {},
   "outputs": [
    {
     "name": "stdout",
     "output_type": "stream",
     "text": [
      "2 cleaned items\n",
      "3 cleaned items\n",
      "4 cleaned items\n",
      "5 cleaned items\n",
      "6 cleaned items\n",
      "7 cleaned items\n",
      "8 cleaned items\n",
      "9 cleaned items\n",
      "10 cleaned items\n",
      "End of loop while\n"
     ]
    }
   ],
   "source": [
    "counter = 0\n",
    "\n",
    "while counter < 10:\n",
    "    counter = counter + 1\n",
    "    if counter == 1:\n",
    "        continue\n",
    "    print(counter, \"cleaned items\")\n",
    "\n",
    "print(\"End of loop while\")"
   ]
  },
  {
   "cell_type": "code",
   "execution_count": 19,
   "metadata": {},
   "outputs": [
    {
     "name": "stdout",
     "output_type": "stream",
     "text": [
      "Access Alowed\n"
     ]
    }
   ],
   "source": [
    "text = input(\"Enter your password\")\n",
    "\n",
    "while text != \"LetsCode\":\n",
    "    text = input(\"Invalid Password. Try again\")\n",
    "\n",
    "print (\"Access Alowed\")\n"
   ]
  },
  {
   "cell_type": "code",
   "execution_count": 7,
   "metadata": {},
   "outputs": [
    {
     "name": "stdout",
     "output_type": "stream",
     "text": [
      "The quantity you can save until the end of the year is: 4200.0\n"
     ]
    }
   ],
   "source": [
    "salary = input(\"Enter your mensal salary: \")\n",
    "salary = float(salary)\n",
    "\n",
    "spending = input(\"Enter your mensal spending: \")\n",
    "spending = float(spending)\n",
    "\n",
    "anual_salary = salary * 12\n",
    "anual_spending = spending * 12\n",
    "\n",
    "savings = anual_salary - anual_spending\n",
    "print(\"The quantity you can save until the end of the year is:\", savings)\n"
   ]
  },
  {
   "cell_type": "code",
   "execution_count": 17,
   "metadata": {},
   "outputs": [
    {
     "name": "stdout",
     "output_type": "stream",
     "text": [
      "Wait a momment.\n"
     ]
    }
   ],
   "source": [
    "passage_bus = 4.30\n",
    "\n",
    "passage_uber = input(\"How much costs the run?\")\n",
    "\n",
    "if float(passage_uber) <= passage_bus * 5:\n",
    "    print(\"Get an uber\")\n",
    "elif float(passage_uber) <= passage_bus * 6:\n",
    "    print(\"Wait a momment, the value can drop.\")\n",
    "else:\n",
    "    print(\"Get the bus\")\n"
   ]
  },
  {
   "cell_type": "code",
   "execution_count": null,
   "metadata": {},
   "outputs": [],
   "source": [
    "age = input(\"Inform your age: \")\n",
    "print(age, type(age))"
   ]
  },
  {
   "cell_type": "code",
   "execution_count": null,
   "metadata": {},
   "outputs": [],
   "source": [
    "age = int(age)\n",
    "print(age, type(age))"
   ]
  }
 ],
 "metadata": {
  "kernelspec": {
   "display_name": "Python 3.10.7 64-bit",
   "language": "python",
   "name": "python3"
  },
  "language_info": {
   "codemirror_mode": {
    "name": "ipython",
    "version": 3
   },
   "file_extension": ".py",
   "mimetype": "text/x-python",
   "name": "python",
   "nbconvert_exporter": "python",
   "pygments_lexer": "ipython3",
   "version": "3.10.7"
  },
  "orig_nbformat": 4,
  "vscode": {
   "interpreter": {
    "hash": "413f823884445dfa7b0c357959fdb4fe304155c50a7c486c393acc7d26d62846"
   }
  }
 },
 "nbformat": 4,
 "nbformat_minor": 2
}
