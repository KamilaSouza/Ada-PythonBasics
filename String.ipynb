{
 "cells": [
  {
   "cell_type": "code",
   "execution_count": 7,
   "metadata": {},
   "outputs": [
    {
     "name": "stdout",
     "output_type": "stream",
     "text": [
      "Google\n",
      "The teacher said \"Pizza is on me today\"\n",
      "G\n",
      "Goo\n",
      "['São Paulo', 'Belo Horizonte', 'Rio de Janeiro', 'Brasília']\n",
      "Menu\n",
      "Rio De Janeiro\n",
      "Rio de janeiro\n",
      "rio de janeiro\n",
      "RIO DE JANEIRO\n",
      "Wrong, try again!\n",
      "You got it!\n"
     ]
    }
   ],
   "source": [
    "company = \"Google\"\n",
    "print(company)\n",
    "\n",
    "sentence = \"The teacher said \\\"Pizza is on me today\\\"\"\n",
    "print(sentence)\n",
    "\n",
    "print(company[0])\n",
    "\n",
    "print(company[:3])\n",
    "\n",
    "city_names = \"São Paulo, Belo Horizonte, Rio de Janeiro, Brasília\"\n",
    "city_names = city_names.split(\", \")\n",
    "print(city_names)\n",
    "\n",
    "header = \"      Menu      \"\n",
    "print(header.strip())\n"
   ]
  },
  {
   "cell_type": "code",
   "execution_count": null,
   "metadata": {},
   "outputs": [],
   "source": [
    "city_name = \"rIO De jAnEiRo\"\n",
    "print(city_name.title()) # Rio De Janeiro\n",
    "print(city_name.capitalize()) # Rio de janeiro\n",
    "print(city_name.lower()) # rio de janeiro\n",
    "print(city_name.upper()) # RIO DE JANEIRO\n",
    "\n",
    "city_name = input(\"What is the city in Brazil known as Wonderful City?\")\n",
    "city_name = city_name.strip() # Remove spaces after and before sentences\n",
    "while city_name.lower() != \"rio de janeiro\":\n",
    "    print(\"Wrong, try again!\")\n",
    "    city_name = input(\"What is the city in Brazil known as Wonderful City?\")\n",
    "\n",
    "print(\"You got it!\")"
   ]
  },
  {
   "cell_type": "code",
   "execution_count": 8,
   "metadata": {},
   "outputs": [
    {
     "name": "stdout",
     "output_type": "stream",
     "text": [
      "True\n"
     ]
    }
   ],
   "source": [
    "message = \"Have you heard what Kamila said in the room?\"\n",
    "cited = \"Kamila\" in message\n",
    "print(cited)"
   ]
  }
 ],
 "metadata": {
  "kernelspec": {
   "display_name": "Python 3.10.7 64-bit",
   "language": "python",
   "name": "python3"
  },
  "language_info": {
   "codemirror_mode": {
    "name": "ipython",
    "version": 3
   },
   "file_extension": ".py",
   "mimetype": "text/x-python",
   "name": "python",
   "nbconvert_exporter": "python",
   "pygments_lexer": "ipython3",
   "version": "3.10.7"
  },
  "orig_nbformat": 4,
  "vscode": {
   "interpreter": {
    "hash": "413f823884445dfa7b0c357959fdb4fe304155c50a7c486c393acc7d26d62846"
   }
  }
 },
 "nbformat": 4,
 "nbformat_minor": 2
}
