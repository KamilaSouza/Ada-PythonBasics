{
 "cells": [
  {
   "cell_type": "code",
   "execution_count": 12,
   "metadata": {},
   "outputs": [
    {
     "name": "stdout",
     "output_type": "stream",
     "text": [
      "{'name': 'São Paulo', 'state': 'São Paulo', 'area_km2': 1521, 'population_million': 12.18} <class 'dict'>\n",
      "{'name': 'São Paulo', 'state': 'São Paulo', 'area_km2': 1521, 'population_million': 12.18, 'country': 'Brazil'} <class 'dict'>\n",
      "São Paulo\n",
      "{'name': 'São Paulo', 'state': 'São Paulo', 'area_km2': 1500, 'population_million': 12.18, 'country': 'Brazil'}\n",
      "{'name': 'São Paulo', 'state': 'São Paulo', 'area_km2': 1500, 'population_million': 12.18, 'country': 'Brazil'}\n",
      "{'name': 'São Paulo', 'state': 'Rio de Janeiro', 'area_km2': 1500, 'population_million': 12.18, 'country': 'Brazil'}\n",
      "{'name': 'São Paulo', 'state': 'São Paulo', 'area_km2': 1500, 'population_million': 15, 'country': 'Brazil', 'foundation': '25/01/1554'}\n",
      "None\n"
     ]
    },
    {
     "ename": "KeyError",
     "evalue": "'mayor'",
     "output_type": "error",
     "traceback": [
      "\u001b[1;31m---------------------------------------------------------------------------\u001b[0m",
      "\u001b[1;31mKeyError\u001b[0m                                  Traceback (most recent call last)",
      "Cell \u001b[1;32mIn [12], line 39\u001b[0m\n\u001b[0;32m     36\u001b[0m \u001b[38;5;28mprint\u001b[39m(city_data)\n\u001b[0;32m     38\u001b[0m \u001b[38;5;28mprint\u001b[39m(city_data\u001b[38;5;241m.\u001b[39mget(\u001b[38;5;124m\"\u001b[39m\u001b[38;5;124mmayor\u001b[39m\u001b[38;5;124m\"\u001b[39m))\n\u001b[1;32m---> 39\u001b[0m \u001b[43mcity_data\u001b[49m\u001b[43m[\u001b[49m\u001b[38;5;124;43m\"\u001b[39;49m\u001b[38;5;124;43mmayor\u001b[39;49m\u001b[38;5;124;43m\"\u001b[39;49m\u001b[43m]\u001b[49m\n",
      "\u001b[1;31mKeyError\u001b[0m: 'mayor'"
     ]
    }
   ],
   "source": [
    "city_data = {\n",
    "    \"name\": \"São Paulo\",\n",
    "    \"state\": \"São Paulo\",\n",
    "    \"area_km2\": 1521,\n",
    "    \"population_million\": 12.18\n",
    "}\n",
    "\n",
    "print(city_data, type(city_data))\n",
    "\n",
    "city_data[\"country\"] = \"Brazil\"\n",
    "\n",
    "print(city_data, type(city_data))\n",
    "\n",
    "print(city_data[\"name\"])\n",
    "\n",
    "city_data[\"area_km2\"] = 1500\n",
    "print(city_data)\n",
    "\n",
    "# city_data_2 = city_data\n",
    "city_data_3 = city_data.copy()\n",
    "\n",
    "city_data_3[\"state\"] = \"Rio de Janeiro\"\n",
    "\n",
    "# city_data_2[\"name\"] = \"Santos\"\n",
    "\n",
    "print(city_data)\n",
    "# print(city_data_2)\n",
    "print(city_data_3)\n",
    "\n",
    "new_data = {\n",
    "    \"population_million\": 15,\n",
    "    \"foundation\": \"25/01/1554\"\n",
    "}\n",
    "\n",
    "city_data.update(new_data)\n",
    "print(city_data)\n",
    "\n",
    "print(city_data.get(\"mayor\"))\n",
    "city_data[\"mayor\"]\n"
   ]
  },
  {
   "cell_type": "code",
   "execution_count": 13,
   "metadata": {},
   "outputs": [
    {
     "name": "stdout",
     "output_type": "stream",
     "text": [
      "dict_keys(['name', 'state', 'area_km2', 'population_million', 'country', 'foundation'])\n",
      "dict_values(['São Paulo', 'São Paulo', 1500, 15, 'Brazil', '25/01/1554'])\n",
      "dict_items([('name', 'São Paulo'), ('state', 'São Paulo'), ('area_km2', 1500), ('population_million', 15), ('country', 'Brazil'), ('foundation', '25/01/1554')])\n"
     ]
    }
   ],
   "source": [
    "print(city_data.keys()) \n",
    "print(city_data.values())\n",
    "print(city_data.items())"
   ]
  }
 ],
 "metadata": {
  "kernelspec": {
   "display_name": "Python 3.10.7 64-bit",
   "language": "python",
   "name": "python3"
  },
  "language_info": {
   "codemirror_mode": {
    "name": "ipython",
    "version": 3
   },
   "file_extension": ".py",
   "mimetype": "text/x-python",
   "name": "python",
   "nbconvert_exporter": "python",
   "pygments_lexer": "ipython3",
   "version": "3.10.7"
  },
  "orig_nbformat": 4,
  "vscode": {
   "interpreter": {
    "hash": "413f823884445dfa7b0c357959fdb4fe304155c50a7c486c393acc7d26d62846"
   }
  }
 },
 "nbformat": 4,
 "nbformat_minor": 2
}
