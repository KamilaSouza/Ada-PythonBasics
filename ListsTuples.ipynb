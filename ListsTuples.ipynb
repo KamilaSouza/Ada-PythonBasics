{
 "cells": [
  {
   "cell_type": "code",
   "execution_count": 7,
   "metadata": {},
   "outputs": [
    {
     "name": "stdout",
     "output_type": "stream",
     "text": [
      "['Brazil', 'Argentina', 'China', 'Canada', 'Japan']\n",
      "List size: 5\n",
      "Country: Japan\n",
      "['Brazil', 'Argentina', 'China', 'Canada', 'Colombia']\n",
      "['Argentina', 'China']\n",
      "['Argentina', 'China', 'Canada', 'Colombia']\n",
      "['Brazil', 'Argentina', 'China']\n",
      "['Brazil', 'China', 'Colombia']\n",
      "['Colombia', 'Canada', 'China', 'Argentina', 'Brazil']\n",
      "True\n",
      "False\n",
      "['Brasilia', 'Buenos Aires', 'Pequim', 'Bogota']\n",
      "['Brasilia', 'Buenos Aires', 'Paris', 'Pequim', 'Bogota']\n",
      "['Brasilia', 'Paris', 'Pequim', 'Bogota']\n",
      "['Brasilia', 'Paris', 'Bogota'] Pequim\n"
     ]
    }
   ],
   "source": [
    "country_names = [\"Brazil\", \"Argentina\", \"China\", \"Canada\", \"Japan\"]\n",
    "print(country_names)\n",
    "\n",
    "print (\"List size:\", len(country_names))\n",
    "\n",
    "print(\"Country:\", country_names[4])\n",
    "\n",
    "country_names[4] = \"Colombia\"\n",
    "\n",
    "print(country_names)\n",
    "\n",
    "print(country_names[1:3])\n",
    "\n",
    "print(country_names[1:])\n",
    "\n",
    "print(country_names[:3])\n",
    "\n",
    "print(country_names[::2])\n",
    "\n",
    "print(country_names[::-1])\n",
    "\n",
    "print(\"Brazil\" in country_names)\n",
    "\n",
    "print(\"Brazil\" not in country_names)\n",
    "\n",
    "capital_names = []\n",
    "\n",
    "capital_names.append(\"Brasilia\")\n",
    "capital_names.append(\"Buenos Aires\")\n",
    "capital_names.append(\"Pequim\")\n",
    "capital_names.append(\"Bogota\")\n",
    "print(capital_names)\n",
    "\n",
    "capital_names.insert(2,\"Paris\")\n",
    "print(capital_names)\n",
    "\n",
    "capital_names.remove(\"Buenos Aires\")\n",
    "print(capital_names)\n",
    "\n",
    "removed = capital_names.pop(2)\n",
    "print(capital_names, removed)\n"
   ]
  },
  {
   "cell_type": "code",
   "execution_count": 11,
   "metadata": {},
   "outputs": [
    {
     "name": "stdout",
     "output_type": "stream",
     "text": [
      "('Brazil', 'Argentina', 'China', 'Canada', 'Japan')\n",
      "('São Paulo',) <class 'tuple'>\n",
      "('Brazil', 'Argentina', 'China', 'Canada', 'Japan')\n",
      "Brazil China Japan\n"
     ]
    }
   ],
   "source": [
    "country1_names = (\"Brazil\", \"Argentina\", \"China\", \"Canada\", \"Japan\")\n",
    "print(country1_names)\n",
    "\n",
    "state_names = \"São Paulo\",\n",
    "print(state_names, type(state_names))\n",
    "\n",
    "len(country1_names)\n",
    "\n",
    "country1_names[0]\n",
    "print(country1_names)\n",
    "\n",
    "b, a, c, ca, j = country1_names\n",
    "print(b, c, j)\n",
    "\n",
    "print(*country1_names)\n"
   ]
  }
 ],
 "metadata": {
  "kernelspec": {
   "display_name": "Python 3.10.7 64-bit",
   "language": "python",
   "name": "python3"
  },
  "language_info": {
   "codemirror_mode": {
    "name": "ipython",
    "version": 3
   },
   "file_extension": ".py",
   "mimetype": "text/x-python",
   "name": "python",
   "nbconvert_exporter": "python",
   "pygments_lexer": "ipython3",
   "version": "3.10.7"
  },
  "orig_nbformat": 4,
  "vscode": {
   "interpreter": {
    "hash": "413f823884445dfa7b0c357959fdb4fe304155c50a7c486c393acc7d26d62846"
   }
  }
 },
 "nbformat": 4,
 "nbformat_minor": 2
}
