{
 "cells": [
  {
   "cell_type": "code",
   "execution_count": 11,
   "metadata": {},
   "outputs": [
    {
     "name": "stdout",
     "output_type": "stream",
     "text": [
      "Hello, Kamila\n",
      "KamilaKamilaKamilaKamilaKamila\n",
      "Kamila is 29 and have 0 children.\n",
      "Kamila is 29 and have 0 children.\n",
      "Today, the petrol price is: R$ 3.48\n",
      "Kamila is 29 and have 0 children.\n"
     ]
    }
   ],
   "source": [
    "greeting = \"Hello, \"\n",
    "name = \"Kamila\"\n",
    "age = 29\n",
    "children = 0\n",
    "\n",
    "print(greeting + name)\n",
    "\n",
    "print(name * 5)\n",
    "\n",
    "print (name + \" is \" + str(age) + \" and have \" + str(children) + \" children.\")\n",
    "\n",
    "print(\"{} is {} and have {} children.\".format(name, age, children))\n",
    "\n",
    "print(f\"{name} is {age} and have {children} children.\")\n",
    "\n",
    "petrol_price = 3.476\n",
    "print(\"Today, the petrol price is: R$ {:.2f}\".format(petrol_price))\n"
   ]
  }
 ],
 "metadata": {
  "kernelspec": {
   "display_name": "Python 3.10.7 64-bit",
   "language": "python",
   "name": "python3"
  },
  "language_info": {
   "codemirror_mode": {
    "name": "ipython",
    "version": 3
   },
   "file_extension": ".py",
   "mimetype": "text/x-python",
   "name": "python",
   "nbconvert_exporter": "python",
   "pygments_lexer": "ipython3",
   "version": "3.10.7"
  },
  "orig_nbformat": 4,
  "vscode": {
   "interpreter": {
    "hash": "413f823884445dfa7b0c357959fdb4fe304155c50a7c486c393acc7d26d62846"
   }
  }
 },
 "nbformat": 4,
 "nbformat_minor": 2
}
