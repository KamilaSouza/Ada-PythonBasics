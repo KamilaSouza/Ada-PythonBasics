{
  "nbformat": 4,
  "nbformat_minor": 0,
  "metadata": {
    "colab": {
      "provenance": [],
      "authorship_tag": "ABX9TyPDiU7qyepVHbSFpUlBLUpv",
      "include_colab_link": true
    },
    "kernelspec": {
      "name": "python3",
      "display_name": "Python 3"
    },
    "language_info": {
      "name": "python"
    }
  },
  "cells": [
    {
      "cell_type": "markdown",
      "metadata": {
        "id": "view-in-github",
        "colab_type": "text"
      },
      "source": [
        "<a href=\"https://colab.research.google.com/github/KamilaSouza/Ada-PythonBasics/blob/main/Logic.ipynb\" target=\"_parent\"><img src=\"https://colab.research.google.com/assets/colab-badge.svg\" alt=\"Open In Colab\"/></a>"
      ]
    },
    {
      "cell_type": "markdown",
      "source": [
        "# Programming Logic with Python"
      ],
      "metadata": {
        "id": "XPVvdJBCgNIs"
      }
    },
    {
      "cell_type": "code",
      "execution_count": 2,
      "metadata": {
        "id": "Bg5581jZfpu1"
      },
      "outputs": [],
      "source": [
        "name = 'Kamila'"
      ]
    },
    {
      "cell_type": "code",
      "source": [
        "age = 29"
      ],
      "metadata": {
        "id": "dk__xmPCgQ5d"
      },
      "execution_count": 3,
      "outputs": []
    },
    {
      "cell_type": "code",
      "source": [
        "print (f'Name {name}, age {age}')"
      ],
      "metadata": {
        "colab": {
          "base_uri": "https://localhost:8080/"
        },
        "id": "X5klEflShkA-",
        "outputId": "23dccf8d-00f0-4cc2-ffaf-df4b47b2e268"
      },
      "execution_count": 9,
      "outputs": [
        {
          "output_type": "stream",
          "name": "stdout",
          "text": [
            "Name Kamila, age 29\n"
          ]
        }
      ]
    },
    {
      "cell_type": "markdown",
      "source": [
        "# My first function"
      ],
      "metadata": {
        "id": "25BOQjdAi-kf"
      }
    },
    {
      "cell_type": "code",
      "source": [
        "def greeting():\n",
        "  name = input('What is your name? ')\n",
        "  print (f'Hello {name}!')"
      ],
      "metadata": {
        "id": "SKq7IA6tjAgd"
      },
      "execution_count": 12,
      "outputs": []
    },
    {
      "cell_type": "code",
      "source": [
        "greeting()"
      ],
      "metadata": {
        "colab": {
          "base_uri": "https://localhost:8080/"
        },
        "id": "EXGumJAOj7so",
        "outputId": "67dedae7-8bf7-42d2-b847-ca0533275dfa"
      },
      "execution_count": 14,
      "outputs": [
        {
          "output_type": "stream",
          "name": "stdout",
          "text": [
            "What is your name? kami\n",
            "Hello kami!\n"
          ]
        }
      ]
    },
    {
      "cell_type": "code",
      "source": [],
      "metadata": {
        "id": "ewOQfR5Rj-Yt"
      },
      "execution_count": null,
      "outputs": []
    }
  ]
}